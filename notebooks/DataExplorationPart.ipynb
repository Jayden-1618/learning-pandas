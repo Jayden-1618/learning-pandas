{
 "cells": [
  {
   "cell_type": "markdown",
   "metadata": {},
   "source": [
    "<h3>Importing libraries & Loading data</h3>"
   ]
  },
  {
   "cell_type": "code",
   "execution_count": 2,
   "metadata": {},
   "outputs": [],
   "source": [
    "import pandas as pd\n",
    "import numpy as np\n",
    "\n",
    "\n",
    "\n",
    "global pk\n",
    "pk = pd.read_csv(\"../Data/Pokemon.csv\")\n",
    "\n"
   ]
  },
  {
   "cell_type": "markdown",
   "metadata": {},
   "source": [
    "<h3>Head and Tail</h3>"
   ]
  },
  {
   "cell_type": "code",
   "execution_count": 15,
   "metadata": {},
   "outputs": [
    {
     "name": "stdout",
     "output_type": "stream",
     "text": [
      "   #       Name Type 1  Type 2  Total  HP  Attack  Defense  Sp. Atk  Sp. Def  Speed  Generation  Legendary\n",
      "0  1  Bulbasaur  Grass  Poison    318  45      49       49       65       65     45           1      False\n",
      "1  2    Ivysaur  Grass  Poison    405  60      62       63       80       80     60           1      False\n",
      "2  3   Venusaur  Grass  Poison    525  80      82       83      100      100     80           1      False\n",
      "       #                 Name   Type 1 Type 2  Total  HP  Attack  Defense  Sp. Atk  Sp. Def  Speed  Generation  Legendary\n",
      "797  720  HoopaHoopa Confined  Psychic  Ghost    600  80     110       60      150      130     70           6       True\n",
      "798  720   HoopaHoopa Unbound  Psychic   Dark    680  80     160       60      170      130     80           6       True\n",
      "799  721            Volcanion     Fire  Water    600  80     110      120      130       90     70           6       True\n"
     ]
    }
   ],
   "source": [
    "\n",
    "\n",
    "print(pk.head(3).to_string())   #to_string() for formatting \n",
    "print(pk.tail(3).to_string())\n"
   ]
  },
  {
   "cell_type": "markdown",
   "metadata": {},
   "source": [
    "<h3>Info and Describe</h3>\n"
   ]
  },
  {
   "cell_type": "code",
   "execution_count": 88,
   "metadata": {},
   "outputs": [
    {
     "name": "stdout",
     "output_type": "stream",
     "text": [
      "<class 'pandas.core.frame.DataFrame'>\n",
      "RangeIndex: 800 entries, 0 to 799\n",
      "Data columns (total 13 columns):\n",
      " #   Column      Non-Null Count  Dtype \n",
      "---  ------      --------------  ----- \n",
      " 0   #           800 non-null    int64 \n",
      " 1   Name        800 non-null    object\n",
      " 2   Type 1      800 non-null    object\n",
      " 3   Type 2      414 non-null    object\n",
      " 4   Total       800 non-null    int64 \n",
      " 5   HP          800 non-null    int64 \n",
      " 6   Attack      800 non-null    int64 \n",
      " 7   Defense     800 non-null    int64 \n",
      " 8   Sp. Atk     800 non-null    int64 \n",
      " 9   Sp. Def     800 non-null    int64 \n",
      " 10  Speed       800 non-null    int64 \n",
      " 11  Generation  800 non-null    int64 \n",
      " 12  Legendary   800 non-null    bool  \n",
      "dtypes: bool(1), int64(9), object(3)\n",
      "memory usage: 75.9+ KB\n",
      "None\n",
      "                #      Total          HP      Attack     Defense     Sp. Atk     Sp. Def       Speed  Generation\n",
      "count  800.000000  800.00000  800.000000  800.000000  800.000000  800.000000  800.000000  800.000000   800.00000\n",
      "mean   362.813750  435.10250   69.258750   79.001250   73.842500   72.820000   71.902500   68.277500     3.32375\n",
      "std    208.343798  119.96304   25.534669   32.457366   31.183501   32.722294   27.828916   29.060474     1.66129\n",
      "min      1.000000  180.00000    1.000000    5.000000    5.000000   10.000000   20.000000    5.000000     1.00000\n",
      "25%    184.750000  330.00000   50.000000   55.000000   50.000000   49.750000   50.000000   45.000000     2.00000\n",
      "50%    364.500000  450.00000   65.000000   75.000000   70.000000   65.000000   70.000000   65.000000     3.00000\n",
      "75%    539.250000  515.00000   80.000000  100.000000   90.000000   95.000000   90.000000   90.000000     5.00000\n",
      "max    721.000000  780.00000  255.000000  190.000000  230.000000  194.000000  230.000000  180.000000     6.00000\n"
     ]
    }
   ],
   "source": [
    "#implementing info and describe\n",
    "\n",
    "print(pk.info()) #to_string() for formatting \n",
    "print(pk.describe().to_string())   \n",
    "\n"
   ]
  },
  {
   "cell_type": "markdown",
   "metadata": {},
   "source": [
    "<h3> Sample and its parameters </h3>"
   ]
  },
  {
   "cell_type": "code",
   "execution_count": 3,
   "metadata": {},
   "outputs": [
    {
     "name": "stdout",
     "output_type": "stream",
     "text": [
      "       #       Name    Type 1  Type 2  Total   HP  Attack  Defense  Sp. Atk  Sp. Def  Speed  Generation  Legendary  weightedAttack\n",
      "726  658   Greninja     Water    Dark    530   72      95       67      103       71    122           6      False            0.50\n",
      "337  309  Electrike  Electric     NaN    295   40      45       40       65       40     65           3      False            0.24\n",
      "689  628   Braviary    Normal  Flying    510  100     123       75       57       75     80           5      False            0.65\n",
      "51    46      Paras       Bug   Grass    285   35      70       55       45       55     25           1      False            0.37\n",
      "201  186   Politoed     Water     NaN    500   90      75       75       90      100     70           2      False            0.39\n",
      "461  414     Mothim       Bug  Flying    424   70      94       50       94       50     66           4      False            0.49\n",
      "81    75   Graveler      Rock  Ground    390   55      95      115       45       45     35           1      False            0.50\n",
      "145  134   Vaporeon     Water     NaN    525  130      65       60      110       95     65           1      False            0.34\n",
      "205  190      Aipom    Normal     NaN    360   55      70       55       40       55     85           2      False            0.37\n",
      "294  271     Lombre     Water   Grass    340   60      50       50       60       70     50           3      False            0.26\n"
     ]
    }
   ],
   "source": [
    "viewTable = 4     #to work with different parameters without clogging the output\n",
    "\n",
    "if viewTable == 1 : print(pk.sample(n = 3).to_string())                       #randomly sample n rows \n",
    "if viewTable == 3 : print(pk.sample(n = 5, random_state = 7).to_string())     #randomly sample n rows with reproducibility\n",
    "\n",
    "\n",
    "if viewTable == 4 : \n",
    "    pk['weightedAttack'] = round(pk['Attack'] / pk[\"Attack\"].max(),2)\n",
    "    print(pk.sample(n = 10,weights = pk['weightedAttack']).to_string())\n",
    "                                  \n",
    "if viewTable == 2 : \n",
    "    print(pk.sample(frac = 0.5).to_string())\n",
    "    print(pk.sample(frac = 0.5).describe().to_string())   \n",
    "    #randomly sample fraction of rows with respect to total rows\n",
    "\n",
    "    "
   ]
  },
  {
   "cell_type": "markdown",
   "metadata": {},
   "source": [
    "<h3> Data inspection variables</h3>"
   ]
  },
  {
   "cell_type": "code",
   "execution_count": 36,
   "metadata": {},
   "outputs": [
    {
     "name": "stdout",
     "output_type": "stream",
     "text": [
      "(800, 13) \n",
      "\n",
      "Index(['#', 'Name', 'Type 1', 'Type 2', 'Total', 'HP', 'Attack', 'Defense',\n",
      "       'Sp. Atk', 'Sp. Def', 'Speed', 'Generation', 'Legendary'],\n",
      "      dtype='object') \n",
      "\n",
      "RangeIndex(start=0, stop=800, step=1) \n",
      "\n",
      "[dtype('int64'), dtype('O'), dtype('O'), dtype('O'), dtype('int64'), dtype('int64'), dtype('int32'), dtype('int64'), dtype('int64'), dtype('int64'), dtype('int64'), dtype('int64'), dtype('bool')] \n",
      "\n",
      "1732\n",
      "Index           132\n",
      "#              6400\n",
      "Name          46339\n",
      "Type 1        43408\n",
      "Type 2        34978\n",
      "Total          6400\n",
      "HP             6400\n",
      "Attack         1600\n",
      "Defense        6400\n",
      "Sp. Atk        6400\n",
      "Sp. Def        6400\n",
      "Speed          6400\n",
      "Generation     6400\n",
      "Legendary       800 \n",
      "\n",
      "190\n"
     ]
    }
   ],
   "source": [
    "print(pk.shape             ,'\\n')\n",
    "print(pk.columns           ,'\\n')\n",
    "print(pk.index             ,'\\n')\n",
    "print(pk.dtypes.to_list()  ,'\\n')\n",
    "\n",
    "\n",
    "pk['Attack'] = pk['Attack'].astype(np.int16)\n",
    "print(pk['Attack'].memory_usage(deep = True))\n",
    "\n",
    "print(pk.memory_usage(deep = True).to_string(),'\\n')\n",
    "print(pk['Attack'].max())\n"
   ]
  },
  {
   "cell_type": "code",
   "execution_count": 37,
   "metadata": {},
   "outputs": [
    {
     "name": "stdout",
     "output_type": "stream",
     "text": [
      "   #                   Name Type 1  Type 2  Total  HP  Attack  Defense  Sp. Atk  Sp. Def  Speed  Generation  Legendary\n",
      "0  1              Bulbasaur  Grass  Poison    318  45      49       49       65       65     45           1      False\n",
      "1  2                Ivysaur  Grass  Poison    405  60      62       63       80       80     60           1      False\n",
      "2  3               Venusaur  Grass  Poison    525  80      82       83      100      100     80           1      False\n",
      "3  3  VenusaurMega Venusaur  Grass  Poison    625  80     100      123      122      120     80           1      False\n",
      "4  4             Charmander   Fire     NaN    309  39      52       43       60       50     65           1      False\n"
     ]
    }
   ],
   "source": [
    "print(pk.head().to_string())"
   ]
  }
 ],
 "metadata": {
  "kernelspec": {
   "display_name": "Python 3",
   "language": "python",
   "name": "python3"
  },
  "language_info": {
   "codemirror_mode": {
    "name": "ipython",
    "version": 3
   },
   "file_extension": ".py",
   "mimetype": "text/x-python",
   "name": "python",
   "nbconvert_exporter": "python",
   "pygments_lexer": "ipython3",
   "version": "3.10.12"
  }
 },
 "nbformat": 4,
 "nbformat_minor": 2
}
