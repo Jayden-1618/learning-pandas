{
 "cells": [
  {
   "cell_type": "code",
   "execution_count": 3,
   "metadata": {},
   "outputs": [],
   "source": [
    "import pandas as pd\n",
    "import numpy as np\n",
    "  \n",
    "global pk\n",
    "pk = pd.read_csv(\"Data/pokemon.csv\")\n",
    "\n"
   ]
  },
  {
   "cell_type": "code",
   "execution_count": 5,
   "metadata": {},
   "outputs": [
    {
     "name": "stdout",
     "output_type": "stream",
     "text": [
      "   #       Name Type 1  Type 2  Total  HP  Attack  Defense  Sp. Atk  Sp. Def  \\\n",
      "0  1  Bulbasaur  Grass  Poison    318  45      49       49       65       65   \n",
      "1  2    Ivysaur  Grass  Poison    405  60      62       63       80       80   \n",
      "2  3   Venusaur  Grass  Poison    525  80      82       83      100      100   \n",
      "\n",
      "   Speed  Generation  Legendary  \n",
      "0     45           1      False  \n",
      "1     60           1      False  \n",
      "2     80           1      False  \n",
      "       #                 Name   Type 1 Type 2  Total  HP  Attack  Defense  \\\n",
      "797  720  HoopaHoopa Confined  Psychic  Ghost    600  80     110       60   \n",
      "798  720   HoopaHoopa Unbound  Psychic   Dark    680  80     160       60   \n",
      "799  721            Volcanion     Fire  Water    600  80     110      120   \n",
      "\n",
      "     Sp. Atk  Sp. Def  Speed  Generation  Legendary  \n",
      "797      150      130     70           6       True  \n",
      "798      170      130     80           6       True  \n",
      "799      130       90     70           6       True  \n"
     ]
    }
   ],
   "source": [
    "print(pk.head(3))\n",
    "print(pk.tail(3))\n"
   ]
  },
  {
   "cell_type": "code",
   "execution_count": 7,
   "metadata": {},
   "outputs": [
    {
     "name": "stdout",
     "output_type": "stream",
     "text": [
      "<class 'pandas.core.frame.DataFrame'>\n",
      "RangeIndex: 800 entries, 0 to 799\n",
      "Data columns (total 13 columns):\n",
      " #   Column      Non-Null Count  Dtype \n",
      "---  ------      --------------  ----- \n",
      " 0   #           800 non-null    int64 \n",
      " 1   Name        800 non-null    object\n",
      " 2   Type 1      800 non-null    object\n",
      " 3   Type 2      414 non-null    object\n",
      " 4   Total       800 non-null    int64 \n",
      " 5   HP          800 non-null    int64 \n",
      " 6   Attack      800 non-null    int64 \n",
      " 7   Defense     800 non-null    int64 \n",
      " 8   Sp. Atk     800 non-null    int64 \n",
      " 9   Sp. Def     800 non-null    int64 \n",
      " 10  Speed       800 non-null    int64 \n",
      " 11  Generation  800 non-null    int64 \n",
      " 12  Legendary   800 non-null    bool  \n",
      "dtypes: bool(1), int64(9), object(3)\n",
      "memory usage: 179.0 KB\n",
      "None\n",
      "                #      Total          HP      Attack     Defense     Sp. Atk  \\\n",
      "count  800.000000  800.00000  800.000000  800.000000  800.000000  800.000000   \n",
      "mean   362.813750  435.10250   69.258750   79.001250   73.842500   72.820000   \n",
      "std    208.343798  119.96304   25.534669   32.457366   31.183501   32.722294   \n",
      "min      1.000000  180.00000    1.000000    5.000000    5.000000   10.000000   \n",
      "25%    184.750000  330.00000   50.000000   55.000000   50.000000   49.750000   \n",
      "50%    364.500000  450.00000   65.000000   75.000000   70.000000   65.000000   \n",
      "75%    539.250000  515.00000   80.000000  100.000000   90.000000   95.000000   \n",
      "max    721.000000  780.00000  255.000000  190.000000  230.000000  194.000000   \n",
      "\n",
      "          Sp. Def       Speed  Generation  \n",
      "count  800.000000  800.000000   800.00000  \n",
      "mean    71.902500   68.277500     3.32375  \n",
      "std     27.828916   29.060474     1.66129  \n",
      "min     20.000000    5.000000     1.00000  \n",
      "25%     50.000000   45.000000     2.00000  \n",
      "50%     70.000000   65.000000     3.00000  \n",
      "75%     90.000000   90.000000     5.00000  \n",
      "max    230.000000  180.000000     6.00000  \n"
     ]
    }
   ],
   "source": [
    "print(pk.info(memory_usage='deep'))\n",
    "print(pk.describe())\n"
   ]
  },
  {
   "cell_type": "code",
   "execution_count": null,
   "metadata": {},
   "outputs": [],
   "source": []
  }
 ],
 "metadata": {
  "kernelspec": {
   "display_name": "Python 3",
   "language": "python",
   "name": "python3"
  },
  "language_info": {
   "codemirror_mode": {
    "name": "ipython",
    "version": 3
   },
   "file_extension": ".py",
   "mimetype": "text/x-python",
   "name": "python",
   "nbconvert_exporter": "python",
   "pygments_lexer": "ipython3",
   "version": "3.13.0"
  }
 },
 "nbformat": 4,
 "nbformat_minor": 2
}
