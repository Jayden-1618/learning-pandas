{
 "cells": [
  {
   "cell_type": "code",
   "execution_count": 2,
   "metadata": {},
   "outputs": [],
   "source": [
    "import pandas as pd\n",
    "import numpy as np\n",
    "from tabulate import tabulate\n",
    "\n",
    "\n",
    "global pk\n",
    "pk = pd.read_csv(\"Data/pokemon.csv\")\n",
    "\n"
   ]
  },
  {
   "cell_type": "markdown",
   "metadata": {},
   "source": [
    "<h3>Head and Tail</h3>"
   ]
  },
  {
   "cell_type": "code",
   "execution_count": 15,
   "metadata": {},
   "outputs": [
    {
     "name": "stdout",
     "output_type": "stream",
     "text": [
      "   #       Name Type 1  Type 2  Total  HP  Attack  Defense  Sp. Atk  Sp. Def  Speed  Generation  Legendary\n",
      "0  1  Bulbasaur  Grass  Poison    318  45      49       49       65       65     45           1      False\n",
      "1  2    Ivysaur  Grass  Poison    405  60      62       63       80       80     60           1      False\n",
      "2  3   Venusaur  Grass  Poison    525  80      82       83      100      100     80           1      False\n",
      "       #                 Name   Type 1 Type 2  Total  HP  Attack  Defense  Sp. Atk  Sp. Def  Speed  Generation  Legendary\n",
      "797  720  HoopaHoopa Confined  Psychic  Ghost    600  80     110       60      150      130     70           6       True\n",
      "798  720   HoopaHoopa Unbound  Psychic   Dark    680  80     160       60      170      130     80           6       True\n",
      "799  721            Volcanion     Fire  Water    600  80     110      120      130       90     70           6       True\n"
     ]
    }
   ],
   "source": [
    "\n",
    "\n",
    "print(pk.head(3).to_string())   #to_string() for formatting \n",
    "print(pk.tail(3).to_string())\n"
   ]
  },
  {
   "cell_type": "markdown",
   "metadata": {},
   "source": [
    "<h3>Info and Describe</h3>\n"
   ]
  },
  {
   "cell_type": "code",
   "execution_count": 88,
   "metadata": {},
   "outputs": [
    {
     "name": "stdout",
     "output_type": "stream",
     "text": [
      "<class 'pandas.core.frame.DataFrame'>\n",
      "RangeIndex: 800 entries, 0 to 799\n",
      "Data columns (total 13 columns):\n",
      " #   Column      Non-Null Count  Dtype \n",
      "---  ------      --------------  ----- \n",
      " 0   #           800 non-null    int64 \n",
      " 1   Name        800 non-null    object\n",
      " 2   Type 1      800 non-null    object\n",
      " 3   Type 2      414 non-null    object\n",
      " 4   Total       800 non-null    int64 \n",
      " 5   HP          800 non-null    int64 \n",
      " 6   Attack      800 non-null    int64 \n",
      " 7   Defense     800 non-null    int64 \n",
      " 8   Sp. Atk     800 non-null    int64 \n",
      " 9   Sp. Def     800 non-null    int64 \n",
      " 10  Speed       800 non-null    int64 \n",
      " 11  Generation  800 non-null    int64 \n",
      " 12  Legendary   800 non-null    bool  \n",
      "dtypes: bool(1), int64(9), object(3)\n",
      "memory usage: 75.9+ KB\n",
      "None\n",
      "                #      Total          HP      Attack     Defense     Sp. Atk     Sp. Def       Speed  Generation\n",
      "count  800.000000  800.00000  800.000000  800.000000  800.000000  800.000000  800.000000  800.000000   800.00000\n",
      "mean   362.813750  435.10250   69.258750   79.001250   73.842500   72.820000   71.902500   68.277500     3.32375\n",
      "std    208.343798  119.96304   25.534669   32.457366   31.183501   32.722294   27.828916   29.060474     1.66129\n",
      "min      1.000000  180.00000    1.000000    5.000000    5.000000   10.000000   20.000000    5.000000     1.00000\n",
      "25%    184.750000  330.00000   50.000000   55.000000   50.000000   49.750000   50.000000   45.000000     2.00000\n",
      "50%    364.500000  450.00000   65.000000   75.000000   70.000000   65.000000   70.000000   65.000000     3.00000\n",
      "75%    539.250000  515.00000   80.000000  100.000000   90.000000   95.000000   90.000000   90.000000     5.00000\n",
      "max    721.000000  780.00000  255.000000  190.000000  230.000000  194.000000  230.000000  180.000000     6.00000\n"
     ]
    }
   ],
   "source": [
    "#implementing info and describe\n",
    "\n",
    "print(pk.info()) #to_string() for formatting \n",
    "print(pk.describe().to_string())   \n",
    "\n"
   ]
  },
  {
   "cell_type": "code",
   "execution_count": 3,
   "metadata": {},
   "outputs": [
    {
     "name": "stdout",
     "output_type": "stream",
     "text": [
      "       #                       Name  Type 1    Type 2  Total  HP  Attack  Defense  Sp. Atk  Sp. Def  Speed  Generation  Legendary  weightedAttack\n",
      "127  118                    Goldeen   Water       NaN    320  45      67       60       35       50     63           1      False            0.35\n",
      "266  247                    Pupitar    Rock    Ground    410  70      84       70       65       70     51           2      False            0.44\n",
      "279  257      BlazikenMega Blaziken    Fire  Fighting    630  80     160       80      130       80    100           3      False            0.84\n",
      "348  319                   Sharpedo   Water      Dark    460  70     120       40       95       40     95           3      False            0.63\n",
      "249  230                    Kingdra   Water    Dragon    540  75      95       95       95       95     85           2      False            0.50\n",
      "673  612                    Haxorus  Dragon       NaN    540  76     147       90       60       70     97           5      False            0.77\n",
      "412  376                  Metagross   Steel   Psychic    600  80     135      130       95       90     70           3      False            0.71\n",
      "7      6  CharizardMega Charizard X    Fire    Dragon    634  78     130      111      130       85    100           1      False            0.68\n",
      "596  536                  Palpitoad   Water    Ground    384  75      65       55       65       55     69           5      False            0.34\n",
      "300  277                    Swellow  Normal    Flying    430  60      85       60       50       50    125           3      False            0.45\n"
     ]
    }
   ],
   "source": [
    "viewTable = 4     #to work with different parameters without clogging the output\n",
    "\n",
    "if viewTable == 1 : print(pk.sample(n = 3).to_string())                       #randomly sample n rows \n",
    "if viewTable == 3 : print(pk.sample(n = 5, random_state = 7).to_string())     #randomly sample n rows with reproducibility\n",
    "\n",
    "\n",
    "if viewTable == 4 : \n",
    "    pk['weightedAttack'] = round(pk['Attack'] / pk[\"Attack\"].max(),2)\n",
    "    print(pk.sample(n = 10,weights = pk['weightedAttack']).to_string())\n",
    "                                  \n",
    "if viewTable == 2 : \n",
    "    print(pk.sample(frac = 0.5).to_string())\n",
    "    print(pk.sample(frac = 0.5).describe().to_string())   \n",
    "    #randomly sample fraction of rows with respect to total rows\n",
    "\n",
    "\n",
    "\n"
   ]
  }
 ],
 "metadata": {
  "kernelspec": {
   "display_name": "Python 3",
   "language": "python",
   "name": "python3"
  },
  "language_info": {
   "codemirror_mode": {
    "name": "ipython",
    "version": 3
   },
   "file_extension": ".py",
   "mimetype": "text/x-python",
   "name": "python",
   "nbconvert_exporter": "python",
   "pygments_lexer": "ipython3",
   "version": "3.13.0"
  }
 },
 "nbformat": 4,
 "nbformat_minor": 2
}
